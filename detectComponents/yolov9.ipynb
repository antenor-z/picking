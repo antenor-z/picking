{
 "cells": [
  {
   "cell_type": "markdown",
   "metadata": {},
   "source": [
    "# Baixando o Repositório YoloV9 e Configurando Hyps"
   ]
  },
  {
   "cell_type": "code",
   "execution_count": null,
   "metadata": {},
   "outputs": [],
   "source": [
    "!git clone https://github.com/SkalskiP/yolov9.git\n",
    "%cd yolov9\n",
    "%pip install -r requirements.txt -q\n",
    "%cd data/hyps\n",
    "!cat hyp.scratch-high.yaml | sed '$d' > tmp.yaml\n",
    "!mv tmp.yaml hyp.scratch-high.yaml\n",
    "!echo \"copy_paste: 0.0  #segment copy-paste (probability)\" >> hyp.scratch-high.yaml\n",
    "%cd ../../.."
   ]
  },
  {
   "cell_type": "markdown",
   "metadata": {},
   "source": [
    "# Baixando Pesos dos Modelos"
   ]
  },
  {
   "cell_type": "code",
   "execution_count": null,
   "metadata": {},
   "outputs": [],
   "source": [
    "!mkdir weights\n",
    "!wget -P weights -q https://github.com/WongKinYiu/yolov9/releases/download/v0.1/yolov9-c.pt\n",
    "!wget -P weights -q https://github.com/WongKinYiu/yolov9/releases/download/v0.1/yolov9-e.pt"
   ]
  },
  {
   "cell_type": "markdown",
   "metadata": {},
   "source": [
    "# Download do Dataset do Roboflow"
   ]
  },
  {
   "cell_type": "code",
   "execution_count": null,
   "metadata": {},
   "outputs": [],
   "source": [
    "%cd yolov9\n",
    "%pip install roboflow -q\n",
    "from roboflow import Roboflow\n",
    "rf = Roboflow(api_key=\"\")\n",
    "project = rf.workspace(\"pucrio-x3knl\").project(\"eletronic-detection\")\n",
    "version = project.version(1)\n",
    "dataset = version.download(\"yolov9\")\n",
    "%cd .."
   ]
  },
  {
   "cell_type": "markdown",
   "metadata": {},
   "source": [
    "# Treinamento do Modelo"
   ]
  },
  {
   "cell_type": "code",
   "execution_count": null,
   "metadata": {},
   "outputs": [],
   "source": [
    "!python3 yolov9/train_dual.py \\\n",
    "--batch 2 --epochs 10 --device cpu \\\n",
    "--data yolov9/Eletronic-Detection-1/data.yaml \\\n",
    "--weights weights/yolov9-c.pt \\\n",
    "--cfg yolov9/models/detect/yolov9-c.yaml \\\n",
    "--hyp yolov9/data/hyps/hyp.scratch-high.yaml"
   ]
  },
  {
   "cell_type": "markdown",
   "metadata": {},
   "source": [
    "# Teste do Modelo"
   ]
  },
  {
   "cell_type": "code",
   "execution_count": null,
   "metadata": {},
   "outputs": [],
   "source": [
    "!python3 yolov9/detect.py \\\n",
    "--conf 0.1 --source testData/videoC.mp4 --device cpu \\\n",
    "--weights weights/best.pt "
   ]
  }
 ],
 "metadata": {
  "kernelspec": {
   "display_name": "Python 3",
   "language": "python",
   "name": "python3"
  },
  "language_info": {
   "codemirror_mode": {
    "name": "ipython",
    "version": 3
   },
   "file_extension": ".py",
   "mimetype": "text/x-python",
   "name": "python",
   "nbconvert_exporter": "python",
   "pygments_lexer": "ipython3",
   "version": "3.10.12"
  }
 },
 "nbformat": 4,
 "nbformat_minor": 2
}
